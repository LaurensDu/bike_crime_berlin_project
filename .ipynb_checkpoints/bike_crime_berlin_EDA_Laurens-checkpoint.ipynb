{
 "cells": [
  {
   "cell_type": "code",
   "execution_count": null,
   "id": "7f6a5e07",
   "metadata": {},
   "outputs": [],
   "source": [
    "# getting to know the dataset"
   ]
  },
  {
   "cell_type": "code",
   "execution_count": 6,
   "id": "de45f365",
   "metadata": {},
   "outputs": [],
   "source": [
    "import pandas as pd"
   ]
  },
  {
   "cell_type": "code",
   "execution_count": 7,
   "id": "533fe4e4",
   "metadata": {},
   "outputs": [],
   "source": [
    "# establishing the pandas dataframe as 'bc_df'\n",
    "bc_df = pd.read_csv('original_data/Berlin_bike_thief_file_for_analysis.csv')"
   ]
  },
  {
   "cell_type": "code",
   "execution_count": 8,
   "id": "4c991def",
   "metadata": {},
   "outputs": [
    {
     "data": {
      "text/html": [
       "<div>\n",
       "<style scoped>\n",
       "    .dataframe tbody tr th:only-of-type {\n",
       "        vertical-align: middle;\n",
       "    }\n",
       "\n",
       "    .dataframe tbody tr th {\n",
       "        vertical-align: top;\n",
       "    }\n",
       "\n",
       "    .dataframe thead th {\n",
       "        text-align: right;\n",
       "    }\n",
       "</style>\n",
       "<table border=\"1\" class=\"dataframe\">\n",
       "  <thead>\n",
       "    <tr style=\"text-align: right;\">\n",
       "      <th></th>\n",
       "      <th>Record_date</th>\n",
       "      <th>Record_day</th>\n",
       "      <th>Record_month</th>\n",
       "      <th>Record_year</th>\n",
       "      <th>Stealing_date</th>\n",
       "      <th>Stealing_hour</th>\n",
       "      <th>Report_stealing_date</th>\n",
       "      <th>Report_stealing_hour</th>\n",
       "      <th>Berlin_code_area</th>\n",
       "      <th>Bike_value</th>\n",
       "      <th>Unsuccesful_attempt</th>\n",
       "      <th>Bike_type</th>\n",
       "      <th>Crime_type</th>\n",
       "      <th>Crime_reason</th>\n",
       "      <th>Administrative_district</th>\n",
       "      <th>District</th>\n",
       "      <th>Quarter</th>\n",
       "      <th>Street_name</th>\n",
       "    </tr>\n",
       "  </thead>\n",
       "  <tbody>\n",
       "    <tr>\n",
       "      <th>0</th>\n",
       "      <td>2022-12-01</td>\n",
       "      <td>1</td>\n",
       "      <td>12</td>\n",
       "      <td>2022</td>\n",
       "      <td>2022-12-01</td>\n",
       "      <td>8</td>\n",
       "      <td>2022-12-01</td>\n",
       "      <td>8</td>\n",
       "      <td>1300836</td>\n",
       "      <td>506</td>\n",
       "      <td>No</td>\n",
       "      <td>Bike</td>\n",
       "      <td>Theft</td>\n",
       "      <td>Aggravated theft</td>\n",
       "      <td>Mitte</td>\n",
       "      <td>Gesundbrunnen</td>\n",
       "      <td>Brunnenstraße Nord</td>\n",
       "      <td>Humboldthain Nordwest</td>\n",
       "    </tr>\n",
       "    <tr>\n",
       "      <th>1</th>\n",
       "      <td>2022-12-01</td>\n",
       "      <td>1</td>\n",
       "      <td>12</td>\n",
       "      <td>2022</td>\n",
       "      <td>2022-11-29</td>\n",
       "      <td>22</td>\n",
       "      <td>2022-11-30</td>\n",
       "      <td>17</td>\n",
       "      <td>1300732</td>\n",
       "      <td>718</td>\n",
       "      <td>No</td>\n",
       "      <td>Bike</td>\n",
       "      <td>Theft</td>\n",
       "      <td>Aggravated theft</td>\n",
       "      <td>Mitte</td>\n",
       "      <td>Gesundbrunnen</td>\n",
       "      <td>Osloer Straße</td>\n",
       "      <td>Soldiner Straße</td>\n",
       "    </tr>\n",
       "    <tr>\n",
       "      <th>2</th>\n",
       "      <td>2022-12-01</td>\n",
       "      <td>1</td>\n",
       "      <td>12</td>\n",
       "      <td>2022</td>\n",
       "      <td>2022-05-28</td>\n",
       "      <td>7</td>\n",
       "      <td>2022-05-28</td>\n",
       "      <td>14</td>\n",
       "      <td>6300526</td>\n",
       "      <td>569</td>\n",
       "      <td>No</td>\n",
       "      <td>Child</td>\n",
       "      <td>Theft</td>\n",
       "      <td>Aggravated theft</td>\n",
       "      <td>Steglitz-Zehlendorf</td>\n",
       "      <td>Zehlendorf Süd/Lichterfelde West</td>\n",
       "      <td>Teltower Damm</td>\n",
       "      <td>Zehlendorf Mitte</td>\n",
       "    </tr>\n",
       "    <tr>\n",
       "      <th>3</th>\n",
       "      <td>2022-12-01</td>\n",
       "      <td>1</td>\n",
       "      <td>12</td>\n",
       "      <td>2022</td>\n",
       "      <td>2022-11-21</td>\n",
       "      <td>9</td>\n",
       "      <td>2022-11-21</td>\n",
       "      <td>16</td>\n",
       "      <td>1100309</td>\n",
       "      <td>600</td>\n",
       "      <td>No</td>\n",
       "      <td>Child</td>\n",
       "      <td>Theft</td>\n",
       "      <td>Aggravated theft</td>\n",
       "      <td>Mitte</td>\n",
       "      <td>Zentrum</td>\n",
       "      <td>Alexanderplatz</td>\n",
       "      <td>Oranienburger Straße</td>\n",
       "    </tr>\n",
       "    <tr>\n",
       "      <th>4</th>\n",
       "      <td>2022-12-01</td>\n",
       "      <td>1</td>\n",
       "      <td>12</td>\n",
       "      <td>2022</td>\n",
       "      <td>2022-11-30</td>\n",
       "      <td>16</td>\n",
       "      <td>2022-12-01</td>\n",
       "      <td>11</td>\n",
       "      <td>3701659</td>\n",
       "      <td>400</td>\n",
       "      <td>No</td>\n",
       "      <td>Men</td>\n",
       "      <td>Theft</td>\n",
       "      <td>Aggravated theft</td>\n",
       "      <td>Pankow</td>\n",
       "      <td>Südlicher Prenzlauer Berg</td>\n",
       "      <td>Prenzlauer Berg Süd</td>\n",
       "      <td>Immanuelkirchstraße</td>\n",
       "    </tr>\n",
       "  </tbody>\n",
       "</table>\n",
       "</div>"
      ],
      "text/plain": [
       "  Record_date  Record_day  Record_month  Record_year Stealing_date  \\\n",
       "0  2022-12-01           1            12         2022    2022-12-01   \n",
       "1  2022-12-01           1            12         2022    2022-11-29   \n",
       "2  2022-12-01           1            12         2022    2022-05-28   \n",
       "3  2022-12-01           1            12         2022    2022-11-21   \n",
       "4  2022-12-01           1            12         2022    2022-11-30   \n",
       "\n",
       "   Stealing_hour Report_stealing_date  Report_stealing_hour  Berlin_code_area  \\\n",
       "0              8           2022-12-01                     8           1300836   \n",
       "1             22           2022-11-30                    17           1300732   \n",
       "2              7           2022-05-28                    14           6300526   \n",
       "3              9           2022-11-21                    16           1100309   \n",
       "4             16           2022-12-01                    11           3701659   \n",
       "\n",
       "   Bike_value Unsuccesful_attempt Bike_type Crime_type      Crime_reason  \\\n",
       "0         506                  No      Bike      Theft  Aggravated theft   \n",
       "1         718                  No      Bike      Theft  Aggravated theft   \n",
       "2         569                  No     Child      Theft  Aggravated theft   \n",
       "3         600                  No     Child      Theft  Aggravated theft   \n",
       "4         400                  No       Men      Theft  Aggravated theft   \n",
       "\n",
       "  Administrative_district                          District  \\\n",
       "0                   Mitte                     Gesundbrunnen   \n",
       "1                   Mitte                     Gesundbrunnen   \n",
       "2     Steglitz-Zehlendorf  Zehlendorf Süd/Lichterfelde West   \n",
       "3                   Mitte                           Zentrum   \n",
       "4                  Pankow         Südlicher Prenzlauer Berg   \n",
       "\n",
       "               Quarter            Street_name  \n",
       "0   Brunnenstraße Nord  Humboldthain Nordwest  \n",
       "1        Osloer Straße        Soldiner Straße  \n",
       "2        Teltower Damm       Zehlendorf Mitte  \n",
       "3       Alexanderplatz   Oranienburger Straße  \n",
       "4  Prenzlauer Berg Süd    Immanuelkirchstraße  "
      ]
     },
     "execution_count": 8,
     "metadata": {},
     "output_type": "execute_result"
    }
   ],
   "source": [
    "bc_df.head()"
   ]
  },
  {
   "cell_type": "code",
   "execution_count": 12,
   "id": "795e9763",
   "metadata": {},
   "outputs": [
    {
     "name": "stdout",
     "output_type": "stream",
     "text": [
      "<class 'pandas.core.frame.DataFrame'>\n",
      "RangeIndex: 40694 entries, 0 to 40693\n",
      "Data columns (total 18 columns):\n",
      " #   Column                   Non-Null Count  Dtype \n",
      "---  ------                   --------------  ----- \n",
      " 0   Record_date              40694 non-null  object\n",
      " 1   Record_day               40694 non-null  int64 \n",
      " 2   Record_month             40694 non-null  int64 \n",
      " 3   Record_year              40694 non-null  int64 \n",
      " 4   Stealing_date            40694 non-null  object\n",
      " 5   Stealing_hour            40694 non-null  int64 \n",
      " 6   Report_stealing_date     40694 non-null  object\n",
      " 7   Report_stealing_hour     40694 non-null  int64 \n",
      " 8   Berlin_code_area         40694 non-null  int64 \n",
      " 9   Bike_value               40694 non-null  int64 \n",
      " 10  Unsuccesful_attempt      40694 non-null  object\n",
      " 11  Bike_type                40694 non-null  object\n",
      " 12  Crime_type               40694 non-null  object\n",
      " 13  Crime_reason             40694 non-null  object\n",
      " 14  Administrative_district  40694 non-null  object\n",
      " 15  District                 40694 non-null  object\n",
      " 16  Quarter                  40694 non-null  object\n",
      " 17  Street_name              40694 non-null  object\n",
      "dtypes: int64(7), object(11)\n",
      "memory usage: 5.6+ MB\n"
     ]
    }
   ],
   "source": [
    "# getting some information on bc_df\n",
    "bc_df.info()"
   ]
  },
  {
   "cell_type": "code",
   "execution_count": null,
   "id": "c8ab48b4",
   "metadata": {},
   "outputs": [],
   "source": [
    "# checking unique values in the columns where this is relevant"
   ]
  },
  {
   "cell_type": "code",
   "execution_count": 13,
   "id": "67ae9968",
   "metadata": {},
   "outputs": [
    {
     "data": {
      "text/plain": [
       "array([ 8, 22,  7,  9, 16, 15, 17, 21,  2, 19, 11, 20, 23, 18,  4, 12, 10,\n",
       "       14,  0, 13,  3,  6,  1,  5], dtype=int64)"
      ]
     },
     "execution_count": 13,
     "metadata": {},
     "output_type": "execute_result"
    }
   ],
   "source": [
    "bc_df['Stealing_hour'].unique()"
   ]
  },
  {
   "cell_type": "code",
   "execution_count": 19,
   "id": "d5653384",
   "metadata": {},
   "outputs": [
    {
     "data": {
      "text/plain": [
       "array([ 506,  718,  569, ..., 5762, 4050, 5684], dtype=int64)"
      ]
     },
     "execution_count": 19,
     "metadata": {},
     "output_type": "execute_result"
    }
   ],
   "source": [
    "bc_df['Bike_value'].unique()"
   ]
  },
  {
   "cell_type": "code",
   "execution_count": 20,
   "id": "bda3a61c",
   "metadata": {},
   "outputs": [
    {
     "data": {
      "text/plain": [
       "array(['Bike', 'Child', 'Men', 'Mountain', 'Racing', 'Women', 'Cargo'],\n",
       "      dtype=object)"
      ]
     },
     "execution_count": 20,
     "metadata": {},
     "output_type": "execute_result"
    }
   ],
   "source": [
    "bc_df['Bike_type'].unique()"
   ]
  },
  {
   "cell_type": "code",
   "execution_count": 24,
   "id": "25daf763",
   "metadata": {},
   "outputs": [
    {
     "data": {
      "text/plain": [
       "array(['Aggravated theft', 'Aggravated theft from basement/floor',\n",
       "       'Theft', 'Theft from basement/floor'], dtype=object)"
      ]
     },
     "execution_count": 24,
     "metadata": {},
     "output_type": "execute_result"
    }
   ],
   "source": [
    "bc_df['Crime_reason'].unique()"
   ]
  }
 ],
 "metadata": {
  "kernelspec": {
   "display_name": "Python 3 (ipykernel)",
   "language": "python",
   "name": "python3"
  },
  "language_info": {
   "codemirror_mode": {
    "name": "ipython",
    "version": 3
   },
   "file_extension": ".py",
   "mimetype": "text/x-python",
   "name": "python",
   "nbconvert_exporter": "python",
   "pygments_lexer": "ipython3",
   "version": "3.9.13"
  }
 },
 "nbformat": 4,
 "nbformat_minor": 5
}
